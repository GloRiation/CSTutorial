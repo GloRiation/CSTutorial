{
 "cells": [
  {
   "cell_type": "code",
   "execution_count": 24,
   "id": "b4831e17-d0d4-4591-ba40-ac7470f2627b",
   "metadata": {},
   "outputs": [],
   "source": [
    "# Pandas is for using data structures\n",
    "import pandas as pd\n",
    "# statsmodels contain modules for regression and time series analysis\n",
    "import statsmodels.formula.api as smf\n",
    "# statsmodels contain modules for regression and time series analysis\n",
    "import statsmodels.api as sm\n",
    "# numpy is for numerical computing of array and matrix\n",
    "import numpy as np\n",
    "# Matplotlib is a plotting package\n",
    "import matplotlib.pyplot as plt\n",
    "# matplotlib Showing the plot right after the current code  \n",
    "%matplotlib inline\n",
    "# scatter plot matrix\n",
    "import seaborn as sns\n",
    "import scipy.stats as stats\n",
    "from sklearn.metrics import mean_squared_error\n",
    "from math import sqrt\n",
    "from statsmodels.stats.outliers_influence import variance_inflation_factor as VIF\n",
    "import warnings\n",
    "warnings.filterwarnings('ignore')"
   ]
  },
  {
   "cell_type": "markdown",
   "id": "3c9bf611-cdd9-4f59-8f17-ee5e600d04b5",
   "metadata": {},
   "source": [
    "# Q2"
   ]
  },
  {
   "cell_type": "code",
   "execution_count": 2,
   "id": "3816a2c2-c3fe-4d62-a286-2606593fe5e4",
   "metadata": {},
   "outputs": [],
   "source": [
    "homeprices = pd.read_csv('homeprices.csv')\n",
    "Q1_data = homeprices.loc[:,:'Sale price']\n",
    "Q1_data = Q1_data.rename(columns={'Sale price':'Sales price'})\n",
    "Q1_new_data = homeprices.loc[:,'Bedrooms.new':].dropna()"
   ]
  },
  {
   "cell_type": "code",
   "execution_count": 3,
   "id": "66468496-4df2-4e8c-abe7-e026a8613263",
   "metadata": {},
   "outputs": [
    {
     "name": "stdout",
     "output_type": "stream",
     "text": [
      "                            OLS Regression Results                            \n",
      "==============================================================================\n",
      "Dep. Variable:            Sales price   R-squared:                       0.506\n",
      "Model:                            OLS   Adj. R-squared:                  0.469\n",
      "Method:                 Least Squares   F-statistic:                     13.34\n",
      "Date:                Mon, 14 Mar 2022   Prob (F-statistic):           2.42e-10\n",
      "Time:                        21:44:28   Log-Likelihood:                -1032.1\n",
      "No. Observations:                  85   AIC:                             2078.\n",
      "Df Residuals:                      78   BIC:                             2095.\n",
      "Df Model:                           6                                         \n",
      "Covariance Type:            nonrobust                                         \n",
      "================================================================================\n",
      "                   coef    std err          t      P>|t|      [0.025      0.975]\n",
      "--------------------------------------------------------------------------------\n",
      "const        -7.149e+06   3.82e+06     -1.871      0.065   -1.48e+07    4.56e+05\n",
      "Bedrooms     -1.229e+04   9346.727     -1.315      0.192   -3.09e+04    6316.893\n",
      "Bathrooms      5.17e+04   1.31e+04      3.948      0.000    2.56e+04    7.78e+04\n",
      "Living area     65.9030     15.979      4.124      0.000      34.091      97.715\n",
      "Lot size        -0.8971      4.194     -0.214      0.831      -9.247       7.453\n",
      "Year built    3760.8978   1962.504      1.916      0.059    -146.148    7667.944\n",
      "Property tax     1.4761      2.832      0.521      0.604      -4.163       7.115\n",
      "==============================================================================\n",
      "Omnibus:                        0.196   Durbin-Watson:                   2.144\n",
      "Prob(Omnibus):                  0.907   Jarque-Bera (JB):                0.123\n",
      "Skew:                          -0.090   Prob(JB):                        0.941\n",
      "Kurtosis:                       2.956   Cond. No.                     8.38e+06\n",
      "==============================================================================\n",
      "\n",
      "Notes:\n",
      "[1] Standard Errors assume that the covariance matrix of the errors is correctly specified.\n",
      "[2] The condition number is large, 8.38e+06. This might indicate that there are\n",
      "strong multicollinearity or other numerical problems.\n"
     ]
    },
    {
     "name": "stderr",
     "output_type": "stream",
     "text": [
      "C:\\ProgramData\\Anaconda3\\lib\\site-packages\\statsmodels\\tsa\\tsatools.py:142: FutureWarning: In a future version of pandas all arguments of concat except for the argument 'objs' will be keyword-only\n",
      "  x = pd.concat(x[::order], 1)\n"
     ]
    }
   ],
   "source": [
    "Q1_X = Q1_data.drop(columns = 'Sales price')\n",
    "Q1_Y = Q1_data['Sales price']\n",
    "\n",
    "Q1_model = sm.OLS(Q1_Y,sm.add_constant(Q1_X)).fit()\n",
    "print(Q1_model.summary())"
   ]
  },
  {
   "cell_type": "markdown",
   "id": "4173c6c4-ca18-4904-b920-d16d3e0881a4",
   "metadata": {
    "tags": []
   },
   "source": [
    "# Q4"
   ]
  },
  {
   "cell_type": "code",
   "execution_count": 19,
   "id": "74c27853-fb42-4f7a-8029-7c3cde4d8097",
   "metadata": {},
   "outputs": [
    {
     "data": {
      "text/plain": [
       "(64992, 0.506)"
      ]
     },
     "execution_count": 19,
     "metadata": {},
     "output_type": "execute_result"
    }
   ],
   "source": [
    "Sy = Q1_Y.std()\n",
    "R2 = Q1_model.rsquared\n",
    "round(Sy), round(R2, 3)"
   ]
  },
  {
   "cell_type": "code",
   "execution_count": 20,
   "id": "aa003834-24e9-49d8-9c02-6e35bca4cd58",
   "metadata": {},
   "outputs": [
    {
     "data": {
      "text/plain": [
       "45679.71400540945"
      ]
     },
     "execution_count": 20,
     "metadata": {},
     "output_type": "execute_result"
    }
   ],
   "source": [
    "RMSE = np.sqrt(1-0.506)*64992\n",
    "RMSE"
   ]
  },
  {
   "cell_type": "markdown",
   "id": "95253b34-9597-47e1-a5b1-b35f5c85d7f0",
   "metadata": {},
   "source": [
    "# Q5-6"
   ]
  },
  {
   "cell_type": "code",
   "execution_count": 21,
   "id": "711235a5-22e0-46a3-8dec-8738b5b50ccd",
   "metadata": {},
   "outputs": [],
   "source": [
    "from model_selection.model_selection import best_subset_selection"
   ]
  },
  {
   "cell_type": "code",
   "execution_count": 29,
   "id": "9c3115ac-6b08-4dc6-b5e1-6fc3f2eb4ff1",
   "metadata": {},
   "outputs": [],
   "source": [
    "Q5_X = Q1_X.drop(columns = ['Lot size','Property tax',\"Bedrooms\"])"
   ]
  },
  {
   "cell_type": "code",
   "execution_count": 45,
   "id": "2ca95d0c-45dc-4070-b2aa-580079aeb7a8",
   "metadata": {
    "tags": []
   },
   "outputs": [
    {
     "data": {
      "application/vnd.jupyter.widget-view+json": {
       "model_id": "1d4c1cd49fbe4d118dddfa47e8b426d6",
       "version_major": 2,
       "version_minor": 0
      },
      "text/plain": [
       "Loop...:   0%|          | 0/6 [00:00<?, ?it/s]"
      ]
     },
     "metadata": {},
     "output_type": "display_data"
    }
   ],
   "source": [
    "df = best_subset_selection(Q1_X, Q1_Y)"
   ]
  },
  {
   "cell_type": "code",
   "execution_count": 56,
   "id": "33f1f07e-1c9e-4399-bf29-67d3febfa606",
   "metadata": {},
   "outputs": [
    {
     "data": {
      "text/html": [
       "<div>\n",
       "<style scoped>\n",
       "    .dataframe tbody tr th:only-of-type {\n",
       "        vertical-align: middle;\n",
       "    }\n",
       "\n",
       "    .dataframe tbody tr th {\n",
       "        vertical-align: top;\n",
       "    }\n",
       "\n",
       "    .dataframe thead th {\n",
       "        text-align: right;\n",
       "    }\n",
       "</style>\n",
       "<table border=\"1\" class=\"dataframe\">\n",
       "  <thead>\n",
       "    <tr style=\"text-align: right;\">\n",
       "      <th></th>\n",
       "      <th>features</th>\n",
       "      <th>SSE</th>\n",
       "      <th>R_squared</th>\n",
       "      <th>adj_R2</th>\n",
       "    </tr>\n",
       "  </thead>\n",
       "  <tbody>\n",
       "    <tr>\n",
       "      <th>5</th>\n",
       "      <td>(Property tax,)</td>\n",
       "      <td>3.172866e+11</td>\n",
       "      <td>0.105761</td>\n",
       "      <td>0.094987</td>\n",
       "    </tr>\n",
       "    <tr>\n",
       "      <th>2</th>\n",
       "      <td>(Living area,)</td>\n",
       "      <td>2.504573e+11</td>\n",
       "      <td>0.294112</td>\n",
       "      <td>0.285608</td>\n",
       "    </tr>\n",
       "    <tr>\n",
       "      <th>16</th>\n",
       "      <td>(Living area, Year built)</td>\n",
       "      <td>2.166154e+11</td>\n",
       "      <td>0.389492</td>\n",
       "      <td>0.374602</td>\n",
       "    </tr>\n",
       "    <tr>\n",
       "      <th>34</th>\n",
       "      <td>(Bathrooms, Lot size, Year built)</td>\n",
       "      <td>2.240287e+11</td>\n",
       "      <td>0.368599</td>\n",
       "      <td>0.345214</td>\n",
       "    </tr>\n",
       "  </tbody>\n",
       "</table>\n",
       "</div>"
      ],
      "text/plain": [
       "                             features           SSE  R_squared    adj_R2\n",
       "5                     (Property tax,)  3.172866e+11   0.105761  0.094987\n",
       "2                      (Living area,)  2.504573e+11   0.294112  0.285608\n",
       "16          (Living area, Year built)  2.166154e+11   0.389492  0.374602\n",
       "34  (Bathrooms, Lot size, Year built)  2.240287e+11   0.368599  0.345214"
      ]
     },
     "execution_count": 56,
     "metadata": {},
     "output_type": "execute_result"
    }
   ],
   "source": [
    "Q5 = df.iloc[[5,2,16,34],[-1,1,2,3]]\n",
    "Q5"
   ]
  },
  {
   "cell_type": "code",
   "execution_count": 70,
   "id": "aab96845-dc30-4e8e-8df9-20b5b3743ae3",
   "metadata": {},
   "outputs": [
    {
     "data": {
      "text/plain": [
       "(317286593808.10376, 250457310875.3988, 216615445413.46616, 224028658718.72284)"
      ]
     },
     "execution_count": 70,
     "metadata": {},
     "output_type": "execute_result"
    }
   ],
   "source": [
    "Q5.loc[5,\"SSE\"], Q5.loc[2,\"SSE\"], Q5.loc[16,\"SSE\"], Q5.loc[34,\"SSE\"]"
   ]
  },
  {
   "cell_type": "code",
   "execution_count": 73,
   "id": "5ccd8ee7-4246-45f2-b9c2-2498dd729645",
   "metadata": {},
   "outputs": [
    {
     "data": {
      "text/plain": [
       "52590.739775278984"
      ]
     },
     "execution_count": 73,
     "metadata": {},
     "output_type": "execute_result"
    }
   ],
   "source": [
    "SSE = round(Q5.loc[34,\"SSE\"])\n",
    "RMSE = np.sqrt(SSE/(85-3-1))\n",
    "RMSE"
   ]
  },
  {
   "cell_type": "code",
   "execution_count": 82,
   "id": "96185b9b-b281-48dd-a8d3-4096242e0f53",
   "metadata": {},
   "outputs": [
    {
     "data": {
      "text/plain": [
       "(51953.25270369485, 5568.431270323657, 5843.415530586554)"
      ]
     },
     "execution_count": 82,
     "metadata": {},
     "output_type": "execute_result"
    }
   ],
   "source": [
    "RMSE_A = np.sqrt(SSE/(85-2))\n",
    "RMSE_B = np.sqrt(SSE)/85\n",
    "RMSE_C = np.sqrt(SSE)/(85-3-1)\n",
    "RMSE_A, RMSE_B, RMSE_C"
   ]
  },
  {
   "cell_type": "code",
   "execution_count": null,
   "id": "f4abe826-2d8c-48b6-9290-cd76790e0aa1",
   "metadata": {},
   "outputs": [],
   "source": []
  }
 ],
 "metadata": {
  "kernelspec": {
   "display_name": "Python 3 (ipykernel)",
   "language": "python",
   "name": "python3"
  },
  "language_info": {
   "codemirror_mode": {
    "name": "ipython",
    "version": 3
   },
   "file_extension": ".py",
   "mimetype": "text/x-python",
   "name": "python",
   "nbconvert_exporter": "python",
   "pygments_lexer": "ipython3",
   "version": "3.9.7"
  }
 },
 "nbformat": 4,
 "nbformat_minor": 5
}
